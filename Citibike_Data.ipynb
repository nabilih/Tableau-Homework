{
 "cells": [
  {
   "cell_type": "code",
   "execution_count": 1,
   "metadata": {},
   "outputs": [],
   "source": [
    "import pandas as pd\n",
    "import csv"
   ]
  },
  {
   "cell_type": "code",
   "execution_count": 2,
   "metadata": {},
   "outputs": [],
   "source": [
    "csvFile = 'JC-201905-citibike-tripdata.csv'\n",
    "May19_df = pd.read_csv(csvFile, encoding=\"ISO-8859-1\")"
   ]
  },
  {
   "cell_type": "code",
   "execution_count": 3,
   "metadata": {},
   "outputs": [
    {
     "data": {
      "text/html": [
       "<div>\n",
       "<style scoped>\n",
       "    .dataframe tbody tr th:only-of-type {\n",
       "        vertical-align: middle;\n",
       "    }\n",
       "\n",
       "    .dataframe tbody tr th {\n",
       "        vertical-align: top;\n",
       "    }\n",
       "\n",
       "    .dataframe thead th {\n",
       "        text-align: right;\n",
       "    }\n",
       "</style>\n",
       "<table border=\"1\" class=\"dataframe\">\n",
       "  <thead>\n",
       "    <tr style=\"text-align: right;\">\n",
       "      <th></th>\n",
       "      <th>tripduration</th>\n",
       "      <th>starttime</th>\n",
       "      <th>stoptime</th>\n",
       "      <th>start station id</th>\n",
       "      <th>start station name</th>\n",
       "      <th>start station latitude</th>\n",
       "      <th>start station longitude</th>\n",
       "      <th>end station id</th>\n",
       "      <th>end station name</th>\n",
       "      <th>end station latitude</th>\n",
       "      <th>end station longitude</th>\n",
       "      <th>bikeid</th>\n",
       "      <th>usertype</th>\n",
       "      <th>birth year</th>\n",
       "      <th>gender</th>\n",
       "    </tr>\n",
       "  </thead>\n",
       "  <tbody>\n",
       "    <tr>\n",
       "      <td>0</td>\n",
       "      <td>311</td>\n",
       "      <td>2019-05-01 00:07:36.4670</td>\n",
       "      <td>2019-05-01 00:12:47.6350</td>\n",
       "      <td>3185</td>\n",
       "      <td>City Hall</td>\n",
       "      <td>40.717733</td>\n",
       "      <td>-74.043845</td>\n",
       "      <td>3279</td>\n",
       "      <td>Dixon Mills</td>\n",
       "      <td>40.721630</td>\n",
       "      <td>-74.049968</td>\n",
       "      <td>29224</td>\n",
       "      <td>Subscriber</td>\n",
       "      <td>1988</td>\n",
       "      <td>1</td>\n",
       "    </tr>\n",
       "    <tr>\n",
       "      <td>1</td>\n",
       "      <td>538</td>\n",
       "      <td>2019-05-01 00:08:29.2840</td>\n",
       "      <td>2019-05-01 00:17:27.9410</td>\n",
       "      <td>3681</td>\n",
       "      <td>Grand St</td>\n",
       "      <td>40.715178</td>\n",
       "      <td>-74.037683</td>\n",
       "      <td>3203</td>\n",
       "      <td>Hamilton Park</td>\n",
       "      <td>40.727596</td>\n",
       "      <td>-74.044247</td>\n",
       "      <td>26170</td>\n",
       "      <td>Subscriber</td>\n",
       "      <td>1974</td>\n",
       "      <td>1</td>\n",
       "    </tr>\n",
       "    <tr>\n",
       "      <td>2</td>\n",
       "      <td>178</td>\n",
       "      <td>2019-05-01 00:39:36.4750</td>\n",
       "      <td>2019-05-01 00:42:34.9640</td>\n",
       "      <td>3638</td>\n",
       "      <td>Washington St</td>\n",
       "      <td>40.724294</td>\n",
       "      <td>-74.035483</td>\n",
       "      <td>3639</td>\n",
       "      <td>Harborside</td>\n",
       "      <td>40.719252</td>\n",
       "      <td>-74.034234</td>\n",
       "      <td>29517</td>\n",
       "      <td>Subscriber</td>\n",
       "      <td>1988</td>\n",
       "      <td>1</td>\n",
       "    </tr>\n",
       "    <tr>\n",
       "      <td>3</td>\n",
       "      <td>317</td>\n",
       "      <td>2019-05-01 01:24:28.0220</td>\n",
       "      <td>2019-05-01 01:29:45.5730</td>\n",
       "      <td>3206</td>\n",
       "      <td>Hilltop</td>\n",
       "      <td>40.731169</td>\n",
       "      <td>-74.057574</td>\n",
       "      <td>3212</td>\n",
       "      <td>Christ Hospital</td>\n",
       "      <td>40.734786</td>\n",
       "      <td>-74.050444</td>\n",
       "      <td>29606</td>\n",
       "      <td>Subscriber</td>\n",
       "      <td>1986</td>\n",
       "      <td>2</td>\n",
       "    </tr>\n",
       "    <tr>\n",
       "      <td>4</td>\n",
       "      <td>354</td>\n",
       "      <td>2019-05-01 01:54:39.6660</td>\n",
       "      <td>2019-05-01 02:00:34.1750</td>\n",
       "      <td>3639</td>\n",
       "      <td>Harborside</td>\n",
       "      <td>40.719252</td>\n",
       "      <td>-74.034234</td>\n",
       "      <td>3202</td>\n",
       "      <td>Newport PATH</td>\n",
       "      <td>40.727224</td>\n",
       "      <td>-74.033759</td>\n",
       "      <td>26224</td>\n",
       "      <td>Customer</td>\n",
       "      <td>1986</td>\n",
       "      <td>2</td>\n",
       "    </tr>\n",
       "  </tbody>\n",
       "</table>\n",
       "</div>"
      ],
      "text/plain": [
       "   tripduration                 starttime                  stoptime  \\\n",
       "0           311  2019-05-01 00:07:36.4670  2019-05-01 00:12:47.6350   \n",
       "1           538  2019-05-01 00:08:29.2840  2019-05-01 00:17:27.9410   \n",
       "2           178  2019-05-01 00:39:36.4750  2019-05-01 00:42:34.9640   \n",
       "3           317  2019-05-01 01:24:28.0220  2019-05-01 01:29:45.5730   \n",
       "4           354  2019-05-01 01:54:39.6660  2019-05-01 02:00:34.1750   \n",
       "\n",
       "   start station id start station name  start station latitude  \\\n",
       "0              3185          City Hall               40.717733   \n",
       "1              3681           Grand St               40.715178   \n",
       "2              3638      Washington St               40.724294   \n",
       "3              3206            Hilltop               40.731169   \n",
       "4              3639         Harborside               40.719252   \n",
       "\n",
       "   start station longitude  end station id end station name  \\\n",
       "0               -74.043845            3279      Dixon Mills   \n",
       "1               -74.037683            3203    Hamilton Park   \n",
       "2               -74.035483            3639       Harborside   \n",
       "3               -74.057574            3212  Christ Hospital   \n",
       "4               -74.034234            3202     Newport PATH   \n",
       "\n",
       "   end station latitude  end station longitude  bikeid    usertype  \\\n",
       "0             40.721630             -74.049968   29224  Subscriber   \n",
       "1             40.727596             -74.044247   26170  Subscriber   \n",
       "2             40.719252             -74.034234   29517  Subscriber   \n",
       "3             40.734786             -74.050444   29606  Subscriber   \n",
       "4             40.727224             -74.033759   26224    Customer   \n",
       "\n",
       "   birth year  gender  \n",
       "0        1988       1  \n",
       "1        1974       1  \n",
       "2        1988       1  \n",
       "3        1986       2  \n",
       "4        1986       2  "
      ]
     },
     "execution_count": 3,
     "metadata": {},
     "output_type": "execute_result"
    }
   ],
   "source": [
    "May19_df.head()"
   ]
  },
  {
   "cell_type": "code",
   "execution_count": 5,
   "metadata": {},
   "outputs": [],
   "source": [
    "csvFile = 'JC-201906-citibike-tripdata.csv'\n",
    "June19_df = pd.read_csv(csvFile, encoding=\"ISO-8859-1\")"
   ]
  },
  {
   "cell_type": "code",
   "execution_count": 6,
   "metadata": {},
   "outputs": [],
   "source": [
    "csvFile = 'JC-201907-citibike-tripdata.csv'\n",
    "July19_df = pd.read_csv(csvFile, encoding=\"ISO-8859-1\")"
   ]
  },
  {
   "cell_type": "code",
   "execution_count": 7,
   "metadata": {},
   "outputs": [],
   "source": [
    "csvFile = 'JC-201908-citibike-tripdata.csv'\n",
    "Aug19_df = pd.read_csv(csvFile, encoding=\"ISO-8859-1\")"
   ]
  },
  {
   "cell_type": "code",
   "execution_count": 8,
   "metadata": {},
   "outputs": [],
   "source": [
    "csvFile = 'JC-201909-citibike-tripdata.csv'\n",
    "Sept19_df = pd.read_csv(csvFile, encoding=\"ISO-8859-1\")"
   ]
  },
  {
   "cell_type": "code",
   "execution_count": 9,
   "metadata": {},
   "outputs": [],
   "source": [
    "csvFile = 'JC-201910-citibike-tripdata.csv'\n",
    "Oct19_df = pd.read_csv(csvFile, encoding=\"ISO-8859-1\")"
   ]
  },
  {
   "cell_type": "code",
   "execution_count": 10,
   "metadata": {},
   "outputs": [],
   "source": [
    "csvFile = 'JC-201911-citibike-tripdata.csv'\n",
    "Nov19_df = pd.read_csv(csvFile, encoding=\"ISO-8859-1\")"
   ]
  },
  {
   "cell_type": "code",
   "execution_count": 11,
   "metadata": {},
   "outputs": [],
   "source": [
    "csvFile = 'JC-201912-citibike-tripdata.csv'\n",
    "Dec19_df = pd.read_csv(csvFile, encoding=\"ISO-8859-1\")"
   ]
  },
  {
   "cell_type": "code",
   "execution_count": 12,
   "metadata": {},
   "outputs": [],
   "source": [
    "csvFile = 'JC-202001-citibike-tripdata.csv'\n",
    "Jan20_df = pd.read_csv(csvFile, encoding=\"ISO-8859-1\")"
   ]
  },
  {
   "cell_type": "code",
   "execution_count": 13,
   "metadata": {},
   "outputs": [],
   "source": [
    "csvFile = 'JC-202002-citibike-tripdata.csv'\n",
    "Feb20_df = pd.read_csv(csvFile, encoding=\"ISO-8859-1\")"
   ]
  },
  {
   "cell_type": "code",
   "execution_count": 14,
   "metadata": {},
   "outputs": [],
   "source": [
    "csvFile = 'JC-202003-citibike-tripdata.csv'\n",
    "Mar20_df = pd.read_csv(csvFile, encoding=\"ISO-8859-1\")"
   ]
  },
  {
   "cell_type": "code",
   "execution_count": 15,
   "metadata": {},
   "outputs": [],
   "source": [
    "csvFile = 'JC-202004-citibike-tripdata.csv'\n",
    "Apr20_df = pd.read_csv(csvFile, encoding=\"ISO-8859-1\")"
   ]
  },
  {
   "cell_type": "code",
   "execution_count": 16,
   "metadata": {},
   "outputs": [],
   "source": [
    "csvFile = 'JC-202005-citibike-tripdata.csv'\n",
    "May20_df = pd.read_csv(csvFile, encoding=\"ISO-8859-1\")"
   ]
  },
  {
   "cell_type": "code",
   "execution_count": 17,
   "metadata": {},
   "outputs": [],
   "source": [
    "# merge all monthly files\n",
    "merged_df = pd.concat([May19_df, June19_df, July19_df, Aug19_df, Sept19_df, Oct19_df, Nov19_df, Dec19_df, Jan20_df, Feb20_df,Mar20_df,Apr20_df, May20_df])"
   ]
  },
  {
   "cell_type": "code",
   "execution_count": 18,
   "metadata": {},
   "outputs": [
    {
     "data": {
      "text/html": [
       "<div>\n",
       "<style scoped>\n",
       "    .dataframe tbody tr th:only-of-type {\n",
       "        vertical-align: middle;\n",
       "    }\n",
       "\n",
       "    .dataframe tbody tr th {\n",
       "        vertical-align: top;\n",
       "    }\n",
       "\n",
       "    .dataframe thead th {\n",
       "        text-align: right;\n",
       "    }\n",
       "</style>\n",
       "<table border=\"1\" class=\"dataframe\">\n",
       "  <thead>\n",
       "    <tr style=\"text-align: right;\">\n",
       "      <th></th>\n",
       "      <th>tripduration</th>\n",
       "      <th>starttime</th>\n",
       "      <th>stoptime</th>\n",
       "      <th>start station id</th>\n",
       "      <th>start station name</th>\n",
       "      <th>start station latitude</th>\n",
       "      <th>start station longitude</th>\n",
       "      <th>end station id</th>\n",
       "      <th>end station name</th>\n",
       "      <th>end station latitude</th>\n",
       "      <th>end station longitude</th>\n",
       "      <th>bikeid</th>\n",
       "      <th>usertype</th>\n",
       "      <th>birth year</th>\n",
       "      <th>gender</th>\n",
       "    </tr>\n",
       "  </thead>\n",
       "  <tbody>\n",
       "    <tr>\n",
       "      <td>0</td>\n",
       "      <td>311</td>\n",
       "      <td>2019-05-01 00:07:36.4670</td>\n",
       "      <td>2019-05-01 00:12:47.6350</td>\n",
       "      <td>3185</td>\n",
       "      <td>City Hall</td>\n",
       "      <td>40.717733</td>\n",
       "      <td>-74.043845</td>\n",
       "      <td>3279</td>\n",
       "      <td>Dixon Mills</td>\n",
       "      <td>40.721630</td>\n",
       "      <td>-74.049968</td>\n",
       "      <td>29224</td>\n",
       "      <td>Subscriber</td>\n",
       "      <td>1988</td>\n",
       "      <td>1</td>\n",
       "    </tr>\n",
       "    <tr>\n",
       "      <td>1</td>\n",
       "      <td>538</td>\n",
       "      <td>2019-05-01 00:08:29.2840</td>\n",
       "      <td>2019-05-01 00:17:27.9410</td>\n",
       "      <td>3681</td>\n",
       "      <td>Grand St</td>\n",
       "      <td>40.715178</td>\n",
       "      <td>-74.037683</td>\n",
       "      <td>3203</td>\n",
       "      <td>Hamilton Park</td>\n",
       "      <td>40.727596</td>\n",
       "      <td>-74.044247</td>\n",
       "      <td>26170</td>\n",
       "      <td>Subscriber</td>\n",
       "      <td>1974</td>\n",
       "      <td>1</td>\n",
       "    </tr>\n",
       "    <tr>\n",
       "      <td>2</td>\n",
       "      <td>178</td>\n",
       "      <td>2019-05-01 00:39:36.4750</td>\n",
       "      <td>2019-05-01 00:42:34.9640</td>\n",
       "      <td>3638</td>\n",
       "      <td>Washington St</td>\n",
       "      <td>40.724294</td>\n",
       "      <td>-74.035483</td>\n",
       "      <td>3639</td>\n",
       "      <td>Harborside</td>\n",
       "      <td>40.719252</td>\n",
       "      <td>-74.034234</td>\n",
       "      <td>29517</td>\n",
       "      <td>Subscriber</td>\n",
       "      <td>1988</td>\n",
       "      <td>1</td>\n",
       "    </tr>\n",
       "    <tr>\n",
       "      <td>3</td>\n",
       "      <td>317</td>\n",
       "      <td>2019-05-01 01:24:28.0220</td>\n",
       "      <td>2019-05-01 01:29:45.5730</td>\n",
       "      <td>3206</td>\n",
       "      <td>Hilltop</td>\n",
       "      <td>40.731169</td>\n",
       "      <td>-74.057574</td>\n",
       "      <td>3212</td>\n",
       "      <td>Christ Hospital</td>\n",
       "      <td>40.734786</td>\n",
       "      <td>-74.050444</td>\n",
       "      <td>29606</td>\n",
       "      <td>Subscriber</td>\n",
       "      <td>1986</td>\n",
       "      <td>2</td>\n",
       "    </tr>\n",
       "    <tr>\n",
       "      <td>4</td>\n",
       "      <td>354</td>\n",
       "      <td>2019-05-01 01:54:39.6660</td>\n",
       "      <td>2019-05-01 02:00:34.1750</td>\n",
       "      <td>3639</td>\n",
       "      <td>Harborside</td>\n",
       "      <td>40.719252</td>\n",
       "      <td>-74.034234</td>\n",
       "      <td>3202</td>\n",
       "      <td>Newport PATH</td>\n",
       "      <td>40.727224</td>\n",
       "      <td>-74.033759</td>\n",
       "      <td>26224</td>\n",
       "      <td>Customer</td>\n",
       "      <td>1986</td>\n",
       "      <td>2</td>\n",
       "    </tr>\n",
       "  </tbody>\n",
       "</table>\n",
       "</div>"
      ],
      "text/plain": [
       "   tripduration                 starttime                  stoptime  \\\n",
       "0           311  2019-05-01 00:07:36.4670  2019-05-01 00:12:47.6350   \n",
       "1           538  2019-05-01 00:08:29.2840  2019-05-01 00:17:27.9410   \n",
       "2           178  2019-05-01 00:39:36.4750  2019-05-01 00:42:34.9640   \n",
       "3           317  2019-05-01 01:24:28.0220  2019-05-01 01:29:45.5730   \n",
       "4           354  2019-05-01 01:54:39.6660  2019-05-01 02:00:34.1750   \n",
       "\n",
       "   start station id start station name  start station latitude  \\\n",
       "0              3185          City Hall               40.717733   \n",
       "1              3681           Grand St               40.715178   \n",
       "2              3638      Washington St               40.724294   \n",
       "3              3206            Hilltop               40.731169   \n",
       "4              3639         Harborside               40.719252   \n",
       "\n",
       "   start station longitude  end station id end station name  \\\n",
       "0               -74.043845            3279      Dixon Mills   \n",
       "1               -74.037683            3203    Hamilton Park   \n",
       "2               -74.035483            3639       Harborside   \n",
       "3               -74.057574            3212  Christ Hospital   \n",
       "4               -74.034234            3202     Newport PATH   \n",
       "\n",
       "   end station latitude  end station longitude  bikeid    usertype  \\\n",
       "0             40.721630             -74.049968   29224  Subscriber   \n",
       "1             40.727596             -74.044247   26170  Subscriber   \n",
       "2             40.719252             -74.034234   29517  Subscriber   \n",
       "3             40.734786             -74.050444   29606  Subscriber   \n",
       "4             40.727224             -74.033759   26224    Customer   \n",
       "\n",
       "   birth year  gender  \n",
       "0        1988       1  \n",
       "1        1974       1  \n",
       "2        1988       1  \n",
       "3        1986       2  \n",
       "4        1986       2  "
      ]
     },
     "execution_count": 18,
     "metadata": {},
     "output_type": "execute_result"
    }
   ],
   "source": [
    "# Check data\n",
    "merged_df.head()"
   ]
  },
  {
   "cell_type": "code",
   "execution_count": 20,
   "metadata": {},
   "outputs": [],
   "source": [
    "# Save data in a CSV file\n",
    "merged_df.to_csv(\"combined-tripdata.csv\", index=False, header=True)"
   ]
  },
  {
   "cell_type": "code",
   "execution_count": 24,
   "metadata": {},
   "outputs": [
    {
     "data": {
      "text/plain": [
       "array([1988, 1974, 1986, 1979, 1987, 1967, 1984, 1964, 1973, 1990, 1985,\n",
       "       1976, 1994, 1983, 1962, 1989, 1982, 1992, 1981, 1993, 1980, 1977,\n",
       "       1970, 1968, 1969, 1956, 1995, 1978, 1996, 1975, 1963, 1960, 1966,\n",
       "       1955, 1972, 1957, 1958, 1971, 1991, 1998, 1965, 1951, 1961, 1949,\n",
       "       1954, 1959, 1953, 1952, 2000, 1888, 1997, 1941, 1889, 1900, 1947,\n",
       "       1999, 1944, 1950, 2001, 2002, 1946, 2003, 1940, 1904, 1918, 1948,\n",
       "       1887, 1905, 1901, 1945, 1938, 1939, 2004, 1920], dtype=int64)"
      ]
     },
     "execution_count": 24,
     "metadata": {},
     "output_type": "execute_result"
    }
   ],
   "source": [
    "# Find any invalid birth year data which needs to be filtered out of the visualications where Age is used\n",
    "\n",
    "merged_df['birth year'].unique()"
   ]
  },
  {
   "cell_type": "code",
   "execution_count": null,
   "metadata": {},
   "outputs": [],
   "source": []
  }
 ],
 "metadata": {
  "kernelspec": {
   "display_name": "Python 3",
   "language": "python",
   "name": "python3"
  },
  "language_info": {
   "codemirror_mode": {
    "name": "ipython",
    "version": 3
   },
   "file_extension": ".py",
   "mimetype": "text/x-python",
   "name": "python",
   "nbconvert_exporter": "python",
   "pygments_lexer": "ipython3",
   "version": "3.7.4"
  }
 },
 "nbformat": 4,
 "nbformat_minor": 4
}
